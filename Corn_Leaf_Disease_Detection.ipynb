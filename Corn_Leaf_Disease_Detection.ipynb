{
 "cells": [
  {
   "cell_type": "markdown",
   "id": "078828e1",
   "metadata": {},
   "source": [
    "<h1>Corn Leaf Disease Detection with TensorFlow and Keras</h1>"
   ]
  },
  {
   "cell_type": "markdown",
   "id": "3381294c",
   "metadata": {
    "vscode": {
     "languageId": "html"
    }
   },
   "source": [
    "<p>\n",
    "The following dataset was utitilized for this project:<br>\n",
    "<strong>Ahmad, MD Hasan</strong> (2025),\n",
    "<em>\"Seasonal Corn Leaf Disease Dataset: A Multi-Year Collection for Robust Analysis\"</em>,\n",
    "<em>Mendely Data</em>,\n",
    "V1,\n",
    "DOI: <a href=\"https://doi.org/10.17632/vy629dngm8.1\" target=\"_blank\">10.17632/vy629dngm8.1</a>\n",
    "</p>"
   ]
  },
  {
   "cell_type": "code",
   "execution_count": null,
   "id": "918694f0",
   "metadata": {},
   "outputs": [],
   "source": [
    "import tensorflow as tf\n",
    "import keras\n",
    "import numpy as np\n",
    "import matplotlib.pyplot as plt"
   ]
  }
 ],
 "metadata": {
  "kernelspec": {
   "display_name": "base",
   "language": "python",
   "name": "python3"
  },
  "language_info": {
   "codemirror_mode": {
    "name": "ipython",
    "version": 3
   },
   "file_extension": ".py",
   "mimetype": "text/x-python",
   "name": "python",
   "nbconvert_exporter": "python",
   "pygments_lexer": "ipython3",
   "version": "3.12.4"
  }
 },
 "nbformat": 4,
 "nbformat_minor": 5
}
