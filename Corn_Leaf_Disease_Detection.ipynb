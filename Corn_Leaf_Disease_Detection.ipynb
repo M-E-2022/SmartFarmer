{
 "cells": [
  {
   "cell_type": "markdown",
   "id": "078828e1",
   "metadata": {},
   "source": [
    "<h1>Corn Leaf Disease Detection with TensorFlow and Keras</h1>"
   ]
  },
  {
   "cell_type": "code",
   "execution_count": null,
   "id": "918694f0",
   "metadata": {},
   "outputs": [],
   "source": [
    "import tensorflow as tf\n",
    "import keras\n",
    "import numpy as np\n",
    "import matplotlib.pyplot as plt"
   ]
  }
 ],
 "metadata": {
  "kernelspec": {
   "display_name": "base",
   "language": "python",
   "name": "python3"
  },
  "language_info": {
   "codemirror_mode": {
    "name": "ipython",
    "version": 3
   },
   "file_extension": ".py",
   "mimetype": "text/x-python",
   "name": "python",
   "nbconvert_exporter": "python",
   "pygments_lexer": "ipython3",
   "version": "3.12.4"
  }
 },
 "nbformat": 4,
 "nbformat_minor": 5
}
